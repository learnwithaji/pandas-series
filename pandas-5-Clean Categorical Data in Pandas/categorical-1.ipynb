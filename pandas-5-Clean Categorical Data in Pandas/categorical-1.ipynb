{
 "cells": [
  {
   "cell_type": "code",
   "execution_count": 34,
   "metadata": {},
   "outputs": [],
   "source": [
    "import pandas as pd"
   ]
  },
  {
   "cell_type": "code",
   "execution_count": 35,
   "metadata": {},
   "outputs": [
    {
     "data": {
      "text/html": [
       "<div>\n",
       "<style scoped>\n",
       "    .dataframe tbody tr th:only-of-type {\n",
       "        vertical-align: middle;\n",
       "    }\n",
       "\n",
       "    .dataframe tbody tr th {\n",
       "        vertical-align: top;\n",
       "    }\n",
       "\n",
       "    .dataframe thead th {\n",
       "        text-align: right;\n",
       "    }\n",
       "</style>\n",
       "<table border=\"1\" class=\"dataframe\">\n",
       "  <thead>\n",
       "    <tr style=\"text-align: right;\">\n",
       "      <th></th>\n",
       "      <th>Policy ID</th>\n",
       "      <th>Customer Name</th>\n",
       "      <th>Gender</th>\n",
       "      <th>Payment Frequency</th>\n",
       "      <th>Payment Mode</th>\n",
       "    </tr>\n",
       "  </thead>\n",
       "  <tbody>\n",
       "    <tr>\n",
       "      <th>0</th>\n",
       "      <td>P001</td>\n",
       "      <td>Rahul Sharma</td>\n",
       "      <td>M</td>\n",
       "      <td>Monthly</td>\n",
       "      <td>Credit Card</td>\n",
       "    </tr>\n",
       "    <tr>\n",
       "      <th>1</th>\n",
       "      <td>P002</td>\n",
       "      <td>Ananya Iyer</td>\n",
       "      <td>F</td>\n",
       "      <td>MTHLY</td>\n",
       "      <td>upi</td>\n",
       "    </tr>\n",
       "    <tr>\n",
       "      <th>2</th>\n",
       "      <td>P003</td>\n",
       "      <td>Amit Kumar</td>\n",
       "      <td>male</td>\n",
       "      <td>Annual</td>\n",
       "      <td>Net Banking</td>\n",
       "    </tr>\n",
       "    <tr>\n",
       "      <th>3</th>\n",
       "      <td>P004</td>\n",
       "      <td>Neha Verma</td>\n",
       "      <td>FEMALE</td>\n",
       "      <td>Yearly</td>\n",
       "      <td>credit card</td>\n",
       "    </tr>\n",
       "    <tr>\n",
       "      <th>4</th>\n",
       "      <td>P005</td>\n",
       "      <td>Vikram Singh</td>\n",
       "      <td>M</td>\n",
       "      <td>monthly</td>\n",
       "      <td>Debit card</td>\n",
       "    </tr>\n",
       "  </tbody>\n",
       "</table>\n",
       "</div>"
      ],
      "text/plain": [
       "  Policy ID Customer Name  Gender Payment Frequency Payment Mode\n",
       "0      P001  Rahul Sharma       M           Monthly  Credit Card\n",
       "1      P002   Ananya Iyer       F             MTHLY          upi\n",
       "2      P003    Amit Kumar    male            Annual  Net Banking\n",
       "3      P004    Neha Verma  FEMALE            Yearly  credit card\n",
       "4      P005  Vikram Singh       M           monthly   Debit card"
      ]
     },
     "execution_count": 35,
     "metadata": {},
     "output_type": "execute_result"
    }
   ],
   "source": [
    "df = pd.read_csv('auto_policy_profile.csv')\n",
    "df.head()"
   ]
  },
  {
   "cell_type": "code",
   "execution_count": 36,
   "metadata": {},
   "outputs": [
    {
     "data": {
      "text/plain": [
       "(15, 5)"
      ]
     },
     "execution_count": 36,
     "metadata": {},
     "output_type": "execute_result"
    }
   ],
   "source": [
    "df.shape"
   ]
  },
  {
   "cell_type": "code",
   "execution_count": 37,
   "metadata": {},
   "outputs": [
    {
     "name": "stdout",
     "output_type": "stream",
     "text": [
      "<class 'pandas.core.frame.DataFrame'>\n",
      "RangeIndex: 15 entries, 0 to 14\n",
      "Data columns (total 5 columns):\n",
      " #   Column             Non-Null Count  Dtype \n",
      "---  ------             --------------  ----- \n",
      " 0   Policy ID          15 non-null     object\n",
      " 1   Customer Name      15 non-null     object\n",
      " 2   Gender             15 non-null     object\n",
      " 3   Payment Frequency  15 non-null     object\n",
      " 4   Payment Mode       15 non-null     object\n",
      "dtypes: object(5)\n",
      "memory usage: 728.0+ bytes\n"
     ]
    }
   ],
   "source": [
    "df.info()"
   ]
  },
  {
   "cell_type": "code",
   "execution_count": 38,
   "metadata": {},
   "outputs": [
    {
     "data": {
      "text/html": [
       "<div>\n",
       "<style scoped>\n",
       "    .dataframe tbody tr th:only-of-type {\n",
       "        vertical-align: middle;\n",
       "    }\n",
       "\n",
       "    .dataframe tbody tr th {\n",
       "        vertical-align: top;\n",
       "    }\n",
       "\n",
       "    .dataframe thead th {\n",
       "        text-align: right;\n",
       "    }\n",
       "</style>\n",
       "<table border=\"1\" class=\"dataframe\">\n",
       "  <thead>\n",
       "    <tr style=\"text-align: right;\">\n",
       "      <th></th>\n",
       "      <th>Policy_Number</th>\n",
       "      <th>Customer_Name</th>\n",
       "      <th>Gender</th>\n",
       "      <th>Payment_Frequency</th>\n",
       "      <th>Payment_Mode</th>\n",
       "    </tr>\n",
       "  </thead>\n",
       "  <tbody>\n",
       "    <tr>\n",
       "      <th>0</th>\n",
       "      <td>P001</td>\n",
       "      <td>Rahul Sharma</td>\n",
       "      <td>M</td>\n",
       "      <td>Monthly</td>\n",
       "      <td>Credit Card</td>\n",
       "    </tr>\n",
       "    <tr>\n",
       "      <th>1</th>\n",
       "      <td>P002</td>\n",
       "      <td>Ananya Iyer</td>\n",
       "      <td>F</td>\n",
       "      <td>MTHLY</td>\n",
       "      <td>upi</td>\n",
       "    </tr>\n",
       "    <tr>\n",
       "      <th>2</th>\n",
       "      <td>P003</td>\n",
       "      <td>Amit Kumar</td>\n",
       "      <td>male</td>\n",
       "      <td>Annual</td>\n",
       "      <td>Net Banking</td>\n",
       "    </tr>\n",
       "    <tr>\n",
       "      <th>3</th>\n",
       "      <td>P004</td>\n",
       "      <td>Neha Verma</td>\n",
       "      <td>FEMALE</td>\n",
       "      <td>Yearly</td>\n",
       "      <td>credit card</td>\n",
       "    </tr>\n",
       "    <tr>\n",
       "      <th>4</th>\n",
       "      <td>P005</td>\n",
       "      <td>Vikram Singh</td>\n",
       "      <td>M</td>\n",
       "      <td>monthly</td>\n",
       "      <td>Debit card</td>\n",
       "    </tr>\n",
       "  </tbody>\n",
       "</table>\n",
       "</div>"
      ],
      "text/plain": [
       "  Policy_Number Customer_Name  Gender Payment_Frequency Payment_Mode\n",
       "0          P001  Rahul Sharma       M           Monthly  Credit Card\n",
       "1          P002   Ananya Iyer       F             MTHLY          upi\n",
       "2          P003    Amit Kumar    male            Annual  Net Banking\n",
       "3          P004    Neha Verma  FEMALE            Yearly  credit card\n",
       "4          P005  Vikram Singh       M           monthly   Debit card"
      ]
     },
     "execution_count": 38,
     "metadata": {},
     "output_type": "execute_result"
    }
   ],
   "source": [
    "df.rename(columns={\n",
    "    'Policy ID': 'Policy_Number',\n",
    "    'Customer Name': 'Customer_Name',\n",
    "    'Payment Frequency': 'Payment_Frequency',\n",
    "    'Payment Mode': 'Payment_Mode'\n",
    "}, inplace=True)\n",
    "\n",
    "df.head()"
   ]
  },
  {
   "cell_type": "code",
   "execution_count": 39,
   "metadata": {},
   "outputs": [
    {
     "name": "stdout",
     "output_type": "stream",
     "text": [
      "Gender ['F', 'FEMALE', 'Female', 'M', 'Male', 'f', 'm', 'male']\n"
     ]
    }
   ],
   "source": [
    "unique_values = sorted(df['Gender'].unique())\n",
    "print('Gender',unique_values)"
   ]
  },
  {
   "cell_type": "code",
   "execution_count": 40,
   "metadata": {},
   "outputs": [
    {
     "name": "stdout",
     "output_type": "stream",
     "text": [
      "Gender ['FEMALE', 'MALE']\n"
     ]
    }
   ],
   "source": [
    "gender_mapping = {\n",
    "    \"m\": \"MALE\", \n",
    "    \"male\": \"MALE\",  \n",
    "    \"f\": \"FEMALE\",\n",
    "    \"female\": \"FEMALE\"\n",
    "}\n",
    "df['Gender'] = df['Gender'].str.lower().map(gender_mapping)\n",
    "unique_values = sorted(df['Gender'].unique())\n",
    "print('Gender',unique_values)"
   ]
  },
  {
   "cell_type": "code",
   "execution_count": 41,
   "metadata": {},
   "outputs": [
    {
     "name": "stdout",
     "output_type": "stream",
     "text": [
      "Payment_Frequency ['Annual', 'Half-Yearly', 'MONTHLY', 'MTHLY', 'Monthly', 'Mthly', 'QUARTERLY', 'YEARLY', 'Yearly', 'monthly', 'quarterly', 'yearly']\n"
     ]
    }
   ],
   "source": [
    "unique_values = sorted(df['Payment_Frequency'].unique())\n",
    "print('Payment_Frequency', unique_values)"
   ]
  },
  {
   "cell_type": "code",
   "execution_count": 42,
   "metadata": {},
   "outputs": [
    {
     "name": "stdout",
     "output_type": "stream",
     "text": [
      "Payment_Frequency ['ANNUAL', 'HALF-YEARLY', 'MONTHLY', 'QUARTERLY']\n"
     ]
    }
   ],
   "source": [
    "Payment_Frequency_mapping = {\n",
    "    \"yearly\": \"ANNUAL\", \n",
    "    \"annual\": \"ANNUAL\", \n",
    "    \"monthly\": \"MONTHLY\",\n",
    "    \"mthly\": \"MONTHLY\", \n",
    "    \"quarterly\": \"QUARTERLY\", \n",
    "    \"half-yearly\": \"HALF-YEARLY\"\n",
    "}\n",
    "df['Payment_Frequency'] = df['Payment_Frequency'].str.lower().map(Payment_Frequency_mapping)\n",
    "df['Payment_Frequency']\n",
    "unique_values = sorted(df['Payment_Frequency'].unique())\n",
    "print('Payment_Frequency',unique_values)"
   ]
  },
  {
   "cell_type": "code",
   "execution_count": 43,
   "metadata": {},
   "outputs": [
    {
     "name": "stdout",
     "output_type": "stream",
     "text": [
      "Payment_Mode ['CREDIT CARD', 'Cash Payment', 'Credit Card', 'Credit card Payment', 'DEBIT card', 'Debit card', 'Net Banking', 'Net banking', 'UPI', 'UPI transfer', 'cash', 'credit card', 'debit Card', 'net banking', 'upi']\n"
     ]
    }
   ],
   "source": [
    "unique_values = sorted(df['Payment_Mode'].unique())\n",
    "print('Payment_Mode', unique_values)"
   ]
  },
  {
   "cell_type": "code",
   "execution_count": 44,
   "metadata": {},
   "outputs": [
    {
     "name": "stdout",
     "output_type": "stream",
     "text": [
      "Payment_Mode ['CASH', 'CREDIT CARD', 'DEBIT CARD', 'NET BANKING', 'UPI']\n"
     ]
    }
   ],
   "source": [
    "Payment_Mode_mapping = {\n",
    "    \"credit card\": \"CREDIT CARD\", \n",
    "    \"credit card payment\": \"CREDIT CARD\", \n",
    "    \"debit card\": \"DEBIT CARD\", \n",
    "    \"upi\": \"UPI\",\n",
    "    \"upi transfer\": \"UPI\", \n",
    "    \"net banking\": \"NET BANKING\", \n",
    "    \"cash payment\": \"CASH\",\n",
    "    \"cash\": \"CASH\"\n",
    "}\n",
    "df['Payment_Mode'] = df['Payment_Mode'].str.lower().map(Payment_Mode_mapping)\n",
    "df['Payment_Mode']\n",
    "unique_values = sorted(df['Payment_Mode'].unique())\n",
    "print('Payment_Mode',unique_values)"
   ]
  }
 ],
 "metadata": {
  "kernelspec": {
   "display_name": "Python 3",
   "language": "python",
   "name": "python3"
  },
  "language_info": {
   "codemirror_mode": {
    "name": "ipython",
    "version": 3
   },
   "file_extension": ".py",
   "mimetype": "text/x-python",
   "name": "python",
   "nbconvert_exporter": "python",
   "pygments_lexer": "ipython3",
   "version": "3.10.13"
  }
 },
 "nbformat": 4,
 "nbformat_minor": 2
}
