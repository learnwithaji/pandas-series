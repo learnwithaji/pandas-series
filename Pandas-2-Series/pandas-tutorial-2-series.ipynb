{
 "cells": [
  {
   "cell_type": "markdown",
   "metadata": {},
   "source": [
    "### [Learn With Aji](https://www.youtube.com/@LearnWithAji)"
   ]
  },
  {
   "cell_type": "markdown",
   "metadata": {},
   "source": [
    "#### Create a Series from a list - Example: Monthly insurance premium "
   ]
  },
  {
   "cell_type": "code",
   "execution_count": 5,
   "metadata": {},
   "outputs": [
    {
     "name": "stdout",
     "output_type": "stream",
     "text": [
      "0    10\n",
      "1    20\n",
      "2    15\n",
      "3    60\n",
      "4    40\n",
      "5    50\n",
      "dtype: int64\n"
     ]
    }
   ],
   "source": [
    "import pandas as pd  \n",
    "\n",
    "monthly_premium = [10, 20, 15, 60, 40, 50]  \n",
    "monthly_premium_series = pd.Series(monthly_premium)  \n",
    "\n",
    "print(monthly_premium_series)"
   ]
  },
  {
   "cell_type": "markdown",
   "metadata": {},
   "source": [
    "#### Create a Series with a custom label - Example: Monthly insurance premium "
   ]
  },
  {
   "cell_type": "code",
   "execution_count": 3,
   "metadata": {},
   "outputs": [
    {
     "name": "stdout",
     "output_type": "stream",
     "text": [
      "(10, 10)    10\n",
      "Feb-2024    20\n",
      "Mar-2024    15\n",
      "Apr-2024    60\n",
      "May-2024    40\n",
      "Jun-2024    50\n",
      "dtype: int64\n"
     ]
    }
   ],
   "source": [
    "import pandas as pd  \n",
    "\n",
    "monthly_premium = [10, 20, 15, 60, 40, 50]  \n",
    "months = [\"Jan-2024\", \"Feb-2024\", \"Mar-2024\", \"Apr-2024\", \"May-2024\", \"Jun-2024\"]  \n",
    "\n",
    "monthly_premium_series = pd.Series(monthly_premium, index=months)  \n",
    "print(monthly_premium_series)\n"
   ]
  },
  {
   "cell_type": "markdown",
   "metadata": {},
   "source": [
    "#### Creating a Series from a Dictionary - Example: Monthly insurance premium "
   ]
  },
  {
   "cell_type": "code",
   "execution_count": 7,
   "metadata": {},
   "outputs": [
    {
     "name": "stdout",
     "output_type": "stream",
     "text": [
      "jan-2024    10\n",
      "feb-2024    20\n",
      "mar-2024    15\n",
      "apr-2024    60\n",
      "may-2024    40\n",
      "jun-2024    50\n",
      "dtype: int64\n"
     ]
    }
   ],
   "source": [
    "import pandas as pd  \n",
    "\n",
    "monthly_premium_dict = {\n",
    "    \"jan-2024\": 10,\n",
    "    \"feb-2024\": 20,\n",
    "    \"mar-2024\": 15,\n",
    "    \"apr-2024\": 60,\n",
    "    \"may-2024\": 40,\n",
    "    \"jun-2024\": 50\n",
    "}\n",
    "\n",
    "monthly_premium = pd.Series(monthly_premium_dict)\n",
    "print(monthly_premium)"
   ]
  },
  {
   "cell_type": "markdown",
   "metadata": {},
   "source": [
    "#### 3. Creating a Series from a NumPy Array - Example: Monthly insurance premium "
   ]
  },
  {
   "cell_type": "code",
   "execution_count": 9,
   "metadata": {},
   "outputs": [
    {
     "name": "stdout",
     "output_type": "stream",
     "text": [
      "0    10\n",
      "1    20\n",
      "2    15\n",
      "3    60\n",
      "4    40\n",
      "5    50\n",
      "dtype: int32\n"
     ]
    }
   ],
   "source": [
    "import numpy as np  \n",
    "\n",
    "monthly_premium_arr = np.array([10, 20, 15, 60, 40, 50])  \n",
    "monthly_premium = pd.Series(monthly_premium_arr)  \n",
    "print(monthly_premium)"
   ]
  },
  {
   "cell_type": "markdown",
   "metadata": {},
   "source": [
    "#### Read data from a Series - using index and positional index"
   ]
  },
  {
   "cell_type": "code",
   "execution_count": 10,
   "metadata": {},
   "outputs": [
    {
     "name": "stdout",
     "output_type": "stream",
     "text": [
      "jan-2024    10\n",
      "feb-2024    20\n",
      "mar-2024    15\n",
      "apr-2024    60\n",
      "may-2024    40\n",
      "jun-2024    50\n",
      "dtype: int64\n",
      "20\n",
      "50\n",
      "15\n"
     ]
    }
   ],
   "source": [
    "import pandas as pd  \n",
    "\n",
    "monthly_premium_dict = {\n",
    "    \"jan-2024\": 10,\n",
    "    \"feb-2024\": 20,\n",
    "    \"mar-2024\": 15,\n",
    "    \"apr-2024\": 60,\n",
    "    \"may-2024\": 40,\n",
    "    \"jun-2024\": 50\n",
    "}\n",
    "\n",
    "monthly_premium = pd.Series(monthly_premium_dict)\n",
    "\n",
    "print(monthly_premium)\n",
    "print(monthly_premium.iloc[1])  \n",
    "print(monthly_premium.iloc[-1]) \n",
    "print(monthly_premium.loc[\"mar-2024\"])  \n"
   ]
  },
  {
   "cell_type": "markdown",
   "metadata": {},
   "source": [
    "#### Slicing data from a Series"
   ]
  },
  {
   "cell_type": "code",
   "execution_count": 11,
   "metadata": {},
   "outputs": [
    {
     "name": "stdout",
     "output_type": "stream",
     "text": [
      "jan-2024    10\n",
      "feb-2024    20\n",
      "mar-2024    15\n",
      "dtype: int64\n",
      "mar-2024    15\n",
      "apr-2024    60\n",
      "dtype: int64\n",
      "feb-2024    20\n",
      "mar-2024    15\n",
      "apr-2024    60\n",
      "dtype: int64\n",
      "jan-2024    10\n",
      "may-2024    40\n",
      "dtype: int64\n"
     ]
    }
   ],
   "source": [
    "import pandas as pd  \n",
    "\n",
    "monthly_premium_dict = {\n",
    "    \"jan-2024\": 10,\n",
    "    \"feb-2024\": 20,\n",
    "    \"mar-2024\": 15,\n",
    "    \"apr-2024\": 60,\n",
    "    \"may-2024\": 40,\n",
    "    \"jun-2024\": 50\n",
    "}\n",
    "monthly_premium = pd.Series(monthly_premium_dict)\n",
    "print(monthly_premium.iloc[:3])\n",
    "print(monthly_premium.iloc[2:4])\n",
    "print(monthly_premium.loc[\"feb-2024\":\"apr-2024\"])\n",
    "print(monthly_premium.loc[[\"jan-2024\", \"may-2024\"]])\n"
   ]
  },
  {
   "cell_type": "markdown",
   "metadata": {},
   "source": [
    "#### Check if value or index exists in a series"
   ]
  },
  {
   "cell_type": "code",
   "execution_count": 19,
   "metadata": {},
   "outputs": [
    {
     "name": "stdout",
     "output_type": "stream",
     "text": [
      "True\n",
      "False\n",
      "True\n",
      "Apr-2024    60\n",
      "May-2024    40\n",
      "Jun-2024    50\n",
      "dtype: int64\n"
     ]
    }
   ],
   "source": [
    "import pandas as pd  \n",
    "\n",
    "monthly_premium_list = [10, 20, 15, 60, 40, 50]  \n",
    "months = [\"Jan-2024\", \"Feb-2024\", \"Mar-2024\", \"Apr-2024\", \"May-2024\", \"Jun-2024\"]  \n",
    "\n",
    "monthly_premium_series = pd.Series(monthly_premium_list, index=months)  \n",
    "\n",
    "print(\"Mar-2024\" in monthly_premium_series)  \n",
    "print(\"Dec-2024\" in monthly_premium_series) \n",
    "\n",
    "print((monthly_premium_series == 20).any()) \n",
    "\n",
    "high_premium = monthly_premium_series[monthly_premium_series > 30]\n",
    "print(high_premium)"
   ]
  },
  {
   "cell_type": "markdown",
   "metadata": {},
   "source": [
    "#### Basic attributes of series"
   ]
  },
  {
   "cell_type": "code",
   "execution_count": 20,
   "metadata": {},
   "outputs": [
    {
     "name": "stdout",
     "output_type": "stream",
     "text": [
      "Monthly Insurance Premium\n",
      "Month-Year\n",
      "[1200 1500 1350 1600 1450 1550]\n",
      "6\n",
      "False\n"
     ]
    }
   ],
   "source": [
    "import pandas as pd  \n",
    "\n",
    "monthly_premium = [1200, 1500, 1350, 1600, 1450, 1550]  \n",
    "months = [\"Jan-2024\", \"Feb-2024\", \"Mar-2024\", \"Apr-2024\", \"May-2024\", \"Jun-2024\"]  \n",
    "\n",
    "premium_series = pd.Series(monthly_premium, index=months)  \n",
    "\n",
    "premium_series.name = \"Monthly Insurance Premium\"\n",
    "premium_series.index.name = \"Month-Year\"\n",
    " \n",
    "print(premium_series.name)  \n",
    "print(premium_series.index.name)  \n",
    "print( premium_series.values)  \n",
    "print(premium_series.size)  \n",
    "print(premium_series.empty)  \n"
   ]
  },
  {
   "cell_type": "markdown",
   "metadata": {},
   "source": [
    "#### Common Methods used with Series"
   ]
  },
  {
   "cell_type": "code",
   "execution_count": 22,
   "metadata": {},
   "outputs": [
    {
     "name": "stdout",
     "output_type": "stream",
     "text": [
      "count       6.000000\n",
      "mean     1441.666667\n",
      "std       146.344343\n",
      "min      1200.000000\n",
      "25%      1375.000000\n",
      "50%      1475.000000\n",
      "75%      1537.500000\n",
      "max      1600.000000\n",
      "dtype: float64\n",
      "Jan-2024    1200\n",
      "Feb-2024    1500\n",
      "Mar-2024    1350\n",
      "dtype: int64\n",
      "May-2024    1450\n",
      "Jun-2024    1550\n",
      "dtype: int64\n",
      "6\n",
      "8650\n",
      "1441.6666666666667\n",
      "1600\n",
      "1200\n"
     ]
    }
   ],
   "source": [
    "import pandas as pd  \n",
    "\n",
    "monthly_premium = [1200, 1500, 1350, 1600, 1450, 1550]  \n",
    "months = [\"Jan-2024\", \"Feb-2024\", \"Mar-2024\", \"Apr-2024\", \"May-2024\", \"Jun-2024\"]  \n",
    "\n",
    "premium_series = pd.Series(monthly_premium, index=months)  \n",
    "\n",
    "print(premium_series.describe())  \n",
    "\n",
    "print(premium_series.head(3))  \n",
    "print( premium_series.tail(2))  \n",
    "\n",
    "print( premium_series.count())  \n",
    "print( premium_series.sum())  \n",
    "\n",
    "print(premium_series.mean())  \n",
    "print(premium_series.max())  \n",
    "print(premium_series.min()) "
   ]
  },
  {
   "cell_type": "markdown",
   "metadata": {},
   "source": [
    "#### Handling Missing or Incorrect Data in Pandas Series"
   ]
  },
  {
   "cell_type": "code",
   "execution_count": 24,
   "metadata": {},
   "outputs": [
    {
     "name": "stdout",
     "output_type": "stream",
     "text": [
      "Jan-2024     aji\n",
      "Feb-2024     NaN\n",
      "Mar-2024    1350\n",
      "Apr-2024    1600\n",
      "May-2024     N/A\n",
      "Jun-2024    1550\n",
      "dtype: object\n",
      "Jan-2024    False\n",
      "Feb-2024     True\n",
      "Mar-2024    False\n",
      "Apr-2024    False\n",
      "May-2024    False\n",
      "Jun-2024    False\n",
      "dtype: bool\n",
      "Jan-2024     True\n",
      "Feb-2024    False\n",
      "Mar-2024     True\n",
      "Apr-2024     True\n",
      "May-2024     True\n",
      "Jun-2024     True\n",
      "dtype: bool\n",
      "Jan-2024     aji\n",
      "Feb-2024    1400\n",
      "Mar-2024    1350\n",
      "Apr-2024    1600\n",
      "May-2024     N/A\n",
      "Jun-2024    1550\n",
      "dtype: object\n",
      "Jan-2024     aji\n",
      "Mar-2024    1350\n",
      "Apr-2024    1600\n",
      "May-2024     N/A\n",
      "Jun-2024    1550\n",
      "dtype: object\n",
      "Jan-2024     aji\n",
      "Feb-2024     NaN\n",
      "Mar-2024    1350\n",
      "Apr-2024    1600\n",
      "May-2024    1500\n",
      "Jun-2024    1550\n",
      "dtype: object\n"
     ]
    }
   ],
   "source": [
    "import pandas as pd  \n",
    "import numpy as np  \n",
    "\n",
    "monthly_premium = [1200, np.nan, 1350, 1600, \"N/A\", 1550]  \n",
    "months = [\"Jan-2024\", \"Feb-2024\", \"Mar-2024\", \"Apr-2024\", \"May-2024\", \"Jun-2024\"]  \n",
    "\n",
    "premium_series = pd.Series(monthly_premium, index=months)  \n",
    "\n",
    "print(premium_series)  \n",
    "\n",
    "print(premium_series.isnull())  \n",
    "print(premium_series.notnull())  \n",
    "\n",
    "filled_series = premium_series.fillna(1400)  \n",
    "print(filled_series)  \n",
    "\n",
    "cleaned_series = premium_series.dropna()  \n",
    "print(cleaned_series)  \n",
    "\n",
    "corrected_series = premium_series.replace(\"N/A\", 1500)  \n",
    "print(corrected_series)  \n"
   ]
  },
  {
   "cell_type": "code",
   "execution_count": 57,
   "metadata": {},
   "outputs": [
    {
     "name": "stdout",
     "output_type": "stream",
     "text": [
      "Jan-2024    1200\n",
      "Feb-2024    1350\n",
      "Mar-2024    1600\n",
      "Apr-2024    1550\n",
      "May-2024    1450\n",
      "Jun-2024    1300\n",
      "dtype: int64\n",
      "Jan-2024    1200\n",
      "Jun-2024    1300\n",
      "Feb-2024    1350\n",
      "May-2024    1450\n",
      "Apr-2024    1550\n",
      "Mar-2024    1600\n",
      "dtype: int64\n",
      "Mar-2024    1600\n",
      "Apr-2024    1550\n",
      "May-2024    1450\n",
      "Feb-2024    1350\n",
      "Jun-2024    1300\n",
      "Jan-2024    1200\n",
      "dtype: int64\n",
      "Apr-2024    1550\n",
      "Feb-2024    1350\n",
      "Jan-2024    1200\n",
      "Jun-2024    1300\n",
      "Mar-2024    1600\n",
      "May-2024    1450\n",
      "dtype: int64\n",
      "Jan-2024    1.0\n",
      "Feb-2024    3.0\n",
      "Mar-2024    6.0\n",
      "Apr-2024    5.0\n",
      "May-2024    4.0\n",
      "Jun-2024    2.0\n",
      "dtype: float64\n",
      "Jan-2024    6.0\n",
      "Feb-2024    4.0\n",
      "Mar-2024    1.0\n",
      "Apr-2024    2.0\n",
      "May-2024    3.0\n",
      "Jun-2024    5.0\n",
      "dtype: float64\n"
     ]
    }
   ],
   "source": [
    "import pandas as pd  \n",
    "\n",
    "monthly_premium = [1200, 1350, 1600, 1550, 1450, 1300]  \n",
    "months = [\"Jan-2024\", \"Feb-2024\", \"Mar-2024\", \"Apr-2024\", \"May-2024\", \"Jun-2024\"]  \n",
    "\n",
    "premium_series = pd.Series(monthly_premium, index=months)  \n",
    "print(premium_series)  \n",
    "\n",
    "sorted_values_asc = premium_series.sort_values()  \n",
    "print(sorted_values_asc)  \n",
    "\n",
    "sorted_values_desc = premium_series.sort_values(ascending=False)  \n",
    "print(sorted_values_desc)  \n",
    "\n",
    "sorted_index = premium_series.sort_index()  \n",
    "print(sorted_index)  \n",
    "\n",
    "ranked_values = premium_series.rank()  \n",
    "print(ranked_values)  \n",
    "\n",
    "ranked_values_desc = premium_series.rank(ascending=False)  \n",
    "print(ranked_values_desc)  \n"
   ]
  }
 ],
 "metadata": {
  "kernelspec": {
   "display_name": "base",
   "language": "python",
   "name": "python3"
  },
  "language_info": {
   "codemirror_mode": {
    "name": "ipython",
    "version": 3
   },
   "file_extension": ".py",
   "mimetype": "text/x-python",
   "name": "python",
   "nbconvert_exporter": "python",
   "pygments_lexer": "ipython3",
   "version": "3.9.7"
  }
 },
 "nbformat": 4,
 "nbformat_minor": 2
}
